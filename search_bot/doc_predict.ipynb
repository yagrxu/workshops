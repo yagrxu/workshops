{
 "cells": [
  {
   "attachments": {},
   "cell_type": "markdown",
   "metadata": {},
   "source": [
    "# 查询和对话\n",
    "\n",
    "## 参数和方法定义"
   ]
  },
  {
   "cell_type": "code",
   "execution_count": 1,
   "metadata": {},
   "outputs": [],
   "source": [
    "import io\n",
    "import os\n",
    "import boto3\n",
    "import json\n",
    "from opensearchpy import OpenSearch, RequestsHttpConnection\n",
    "from sagemaker.huggingface.model import HuggingFacePredictor\n",
    "\n",
    "from dotenv import load_dotenv\n",
    "load_dotenv()\n",
    "\n",
    "host = 'https://search-devax-search-bot-kcbw3pozuzdstr77ir44wzwmfy.us-east-1.es.amazonaws.com'\n",
    "port = 443\n",
    "region = 'us-east-1' \n",
    "\n",
    "llm_endpoint_name = \"chatglm2-lmi-model\"\n",
    "vetctor_endpoint_name='text2vector'\n",
    "index_name = 'doc_embeddings'\n",
    "\n",
    "auth = (os.environ.get(\"AOS_USER\"), os.environ.get(\"AOS_PWD\")) \n",
    "\n",
    "smr = boto3.client('sagemaker-runtime')\n",
    "\n",
    "parameters = {\n",
    "  \"max_length\": 4092,\n",
    "  \"temperature\": 0.01,\n",
    "  \"top_p\":0.8\n",
    "}\n",
    "\n",
    "predictor_vector = HuggingFacePredictor(\n",
    "  endpoint_name= vetctor_endpoint_name\n",
    ")\n",
    "\n",
    "\n",
    "class StreamScanner:\n",
    "    def __init__(self):\n",
    "        self.buff = io.BytesIO()\n",
    "        self.read_pos = 0\n",
    "        \n",
    "    def write(self, content):\n",
    "        self.buff.seek(0, io.SEEK_END)\n",
    "        self.buff.write(content)\n",
    "        \n",
    "    def readlines(self):\n",
    "        self.buff.seek(self.read_pos)\n",
    "        for line in self.buff.readlines():\n",
    "            if line[-1] != b'\\n':\n",
    "                self.read_pos += len(line)\n",
    "                yield line[:-1]\n",
    "                \n",
    "    def reset(self):\n",
    "        self.read_pos = 0\n",
    "\n",
    "\n",
    "client = OpenSearch(\n",
    "    hosts = [f'{host}:{port}'],\n",
    "    http_auth = auth,\n",
    "    use_ssl = True,\n",
    "    verify_certs = True,\n",
    "    connection_class = RequestsHttpConnection\n",
    ")\n",
    "\n",
    "\n",
    "def search(sentense):\n",
    "    sentence_vec = predictor_vector.predict({\"text\": sentense})\n",
    "    query_body = {\n",
    "        \"size\": 3,\n",
    "        \"query\": {\n",
    "            \"knn\": {\n",
    "                \"content_vec\": {\n",
    "                    \"vector\": sentence_vec,\n",
    "                    \"k\": 2\n",
    "                }\n",
    "            }\n",
    "        }\n",
    "    }\n",
    "\n",
    "    response = client.search(index=index_name, body=query_body)\n",
    "    result =  map(map_res, response[\"hits\"][\"hits\"])\n",
    "    return list(result)\n",
    "\n",
    "def map_res(obj):\n",
    "    return {\n",
    "        \"id\": obj[\"_id\"],\n",
    "        \"score\": obj[\"_score\"],\n",
    "        \"text\": obj[\"_source\"][\"text\"],\n",
    "        \"origion\": obj[\"_source\"][\"origion\"],\n",
    "\n",
    "    }\n",
    "\n",
    "def ask(q):\n",
    "  answers = search(q)\n",
    "  strAnswers = \"\"\n",
    "  references = {}\n",
    "  for an in answers:\n",
    "      strAnswers += an['text'] + \"\\n\\n\"\n",
    "      origion = an['origion']\n",
    "      if origion in references :\n",
    "        references[origion] += 1\n",
    "      else:\n",
    "         references[origion] = 1\n",
    "  ori_prompt = f\"\"\"\n",
    "Use the following pieces of context to answer the question at the end. If you don't know the answer, just say that you don't know, don't try to make up an answer.\n",
    "\n",
    "{strAnswers}\n",
    "\n",
    "Question: {q}\n",
    "            \n",
    "Helpful Answer:\n",
    "\n",
    "  \"\"\"\n",
    "  # print(\"Prompt: \")\n",
    "  # print(ori_prompt)\n",
    "\n",
    "  print(\"问题: \", q)\n",
    "\n",
    "\n",
    "  response_model = smr.invoke_endpoint_with_response_stream(\n",
    "              EndpointName=llm_endpoint_name,\n",
    "              Body=json.dumps(\n",
    "              {\n",
    "                  \"inputs\": ori_prompt,\n",
    "                  \"parameters\": parameters,\n",
    "                  \"history\" : []\n",
    "              }\n",
    "              ),\n",
    "              ContentType=\"application/json\",\n",
    "          )\n",
    "\n",
    "  event_stream = response_model['Body']\n",
    "  # print(event_stream)\n",
    "  scanner = StreamScanner()\n",
    "  for event in event_stream:\n",
    "      scanner.write(event['PayloadPart']['Bytes'])\n",
    "      for line in scanner.readlines():\n",
    "          try:\n",
    "              resp = json.loads(line)\n",
    "              print(resp.get(\"outputs\")['outputs'], end='')\n",
    "          except Exception as e:\n",
    "              continue\n",
    "  print()\n",
    "  print(\"-\"*20)\n",
    "  print(references)\n",
    "  "
   ]
  },
  {
   "attachments": {},
   "cell_type": "markdown",
   "metadata": {},
   "source": [
    "## 测试"
   ]
  },
  {
   "cell_type": "code",
   "execution_count": 4,
   "metadata": {},
   "outputs": [
    {
     "data": {
      "text/plain": [
       "[{'id': 'wtHffYoBGnkxYaTOIXTE',\n",
       "  'score': 0.2580855,\n",
       "  'text': '电动车防雨罩防晒罩雨棚蓬摩托车电瓶车防水遮雨车衣车罩四季通用 加厚铝膜【蓝色】 S无耳加厚【适用1.6米内】\\n商品毛重：1.0kg 货号：11-4-0.4-BDZ-2类型：半罩材质：其他适用车型：车型通用\\n价格 ￥43.6',\n",
       "  'origion': './docs_ec/g5.txt'},\n",
       " {'id': 'xsTffYoBIvxDUYGoGYYL',\n",
       "  'score': 0.20946097,\n",
       "  'text': '雅迪新国标电动车座套防雨防晒新款皮革爱玛电车坐垫套防水通用型 【四面弹皮革】圆头 单个前座套\\n商品名称：雅迪新国标电动车座套防雨防晒新款皮革爱玛电车坐垫套防水通用型 【四面弹皮革】圆头 类别：平面款表层主材质：皮功能：加热下单需绑定车型：需绑定车型适用季节：四季通用适用场景：商务接待套件类别：前排单座\\n价格 ￥11.72',\n",
       "  'origion': './docs_ec/g4.txt'},\n",
       " {'id': 'xcTffYoBIvxDUYGoBYbL',\n",
       "  'score': 0.11006618,\n",
       "  'text': 'Kindle Oasis Essentials Bundle including Kindle Oasis (Graphite, Ad-Supported), Amazon Leather Cover, and Power Adapter\\nIncludes the latest Kindle Oasis with Special Offers, 32 GB, Wi-Fi, Graphite, Amazon Leather Cover (Merlot), and Power Adapter.\\nOur best 7\", 300ppi flush-front Paperwhite display.\\nAdjustable warm light to shift screen shade from white to amber.\\nWaterproof (IPX8) so you can read in the bath or by the pool.\\nThin and light ergonomic design with page turn buttons.\\nWorks with Audible - pair with bluetooth headphones or speakers to switch seamlessly between reading and listening.\\nCover designed to perfectly fit the ergonomic contours of your Kindle Oasis (9th & 10th Generation only—will not fit prior generation Kindle E-readers).\\nNatural leather cover with microfiber interior protects your display from scratches.\\nPrice: $207.97',\n",
       "  'origion': './docs_ec/g3.txt'}]"
      ]
     },
     "execution_count": 4,
     "metadata": {},
     "output_type": "execute_result"
    }
   ],
   "source": [
    "\n",
    "search(\"推荐一款电动车防雨罩，并告诉我价格\") #  碳纤维笔筒"
   ]
  },
  {
   "cell_type": "code",
   "execution_count": 5,
   "metadata": {},
   "outputs": [
    {
     "name": "stdout",
     "output_type": "stream",
     "text": [
      "问题:  推荐一款电动车防雨罩，并告诉我价格\n",
      "电动车防雨罩。根据提供的信息，我推荐您使用“电动车防雨罩防晒罩雨棚蓬摩托车电瓶车防水遮雨车衣车罩四季通用加厚铝膜【蓝色】”。这款产品具有以下特点：\n",
      "\n",
      "1. 适用车型：车型通用。\n",
      "2. 材质：其他材质。\n",
      "3. 颜色：蓝色。\n",
      "4. 货号：11-4-0.4-BDZ-2。\n",
      "5. 商品毛重：1.0kg。\n",
      "6. 功能：防雨、防晒、遮阳。\n",
      "\n",
      "这款产品可以帮助您保护电动车免受雨淋和防晒，确保您的电动车在四季都能够保持干燥。价格方面，该产品的售价为人民币43.6元。\n",
      "--------------------\n",
      "{'./docs_ec/g5.txt': 1, './docs_ec/g4.txt': 1, './docs_ec/g3.txt': 1}\n"
     ]
    }
   ],
   "source": [
    "\n",
    "ask(\"推荐一款电动车防雨罩，并告诉我价格\")"
   ]
  },
  {
   "cell_type": "code",
   "execution_count": 6,
   "metadata": {},
   "outputs": [
    {
     "name": "stdout",
     "output_type": "stream",
     "text": [
      "问题:  Features and price of carbon fiber pen holder\n",
      " carbon fiber pen holder features a handmade linear carbon fiber and a无铅黄铜 design. It has a length of 180mm and an outer diameter of 16mm, and an inner diameter of 13mm. The pen holder has a weight of 30g and is produced in Italy. It comes with an original factory-sealed packaging and a user manual. The price of the carbon fiber pen holder is ￥728.\n",
      "--------------------\n",
      "{'./docs_ec/g1.txt': 1, './docs_ec/g5.txt': 1, './docs_ec/g3.txt': 1}\n"
     ]
    }
   ],
   "source": [
    "ask(\"Features and price of carbon fiber pen holder\") "
   ]
  },
  {
   "cell_type": "code",
   "execution_count": 7,
   "metadata": {},
   "outputs": [
    {
     "name": "stdout",
     "output_type": "stream",
     "text": [
      "问题:  中国最好的大学是哪个？\n",
      "，我是一个人工智能助手，无法访问互联网获取信息。我的知识中没有关于中国最好的大学的信息，因此无法回答这个问题。\n",
      "--------------------\n",
      "{'./docs_ec/g1.txt': 1, './docs_ec/g4.txt': 1, './docs_ec/g2.txt': 1}\n"
     ]
    }
   ],
   "source": [
    "ask(\"中国最好的大学是哪个？\") "
   ]
  }
 ],
 "metadata": {
  "kernelspec": {
   "display_name": "torch2",
   "language": "python",
   "name": "python3"
  },
  "language_info": {
   "codemirror_mode": {
    "name": "ipython",
    "version": 3
   },
   "file_extension": ".py",
   "mimetype": "text/x-python",
   "name": "python",
   "nbconvert_exporter": "python",
   "pygments_lexer": "ipython3",
   "version": "3.10.10"
  },
  "orig_nbformat": 4
 },
 "nbformat": 4,
 "nbformat_minor": 2
}
