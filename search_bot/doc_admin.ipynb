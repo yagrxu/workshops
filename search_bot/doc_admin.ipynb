{
 "cells": [
  {
   "attachments": {},
   "cell_type": "markdown",
   "metadata": {},
   "source": [
    "# 后台文档管理\n",
    "\n",
    "## AOS 管理"
   ]
  },
  {
   "cell_type": "code",
   "execution_count": null,
   "metadata": {},
   "outputs": [],
   "source": [
    "import io\n",
    "import os\n",
    "import boto3\n",
    "import json\n",
    "from opensearchpy import OpenSearch, RequestsHttpConnection\n",
    "from sagemaker.huggingface.model import HuggingFacePredictor\n",
    "\n",
    "from dotenv import load_dotenv\n",
    "load_dotenv()\n",
    "\n",
    "host = 'https://search-devax-search-bot-kcbw3pozuzdstr77ir44wzwmfy.us-east-1.es.amazonaws.com' \n",
    "port = 443\n",
    "region = 'us-east-1' \n",
    "\n",
    "llm_endpoint_name = \"chatglm2-lmi-model\"\n",
    "vetctor_endpoint_name='text2vector'\n",
    "index_name = 'doc_embeddings'\n",
    "\n",
    "auth = (os.environ.get(\"AOS_USER\"), os.environ.get(\"AOS_PWD\")) \n",
    "\n",
    "predictor_vector = HuggingFacePredictor(\n",
    "  endpoint_name= vetctor_endpoint_name\n",
    ")\n",
    "\n",
    "\n",
    "client = OpenSearch(\n",
    "    hosts = [f'{host}:{port}'],\n",
    "    http_auth = auth,\n",
    "    use_ssl = True,\n",
    "    verify_certs = True,\n",
    "    connection_class = RequestsHttpConnection\n",
    ")\n",
    "\n",
    "def update_data(id, data):\n",
    "    response = client.index(\n",
    "        index=index_name,\n",
    "        body=data, \n",
    "        id=id\n",
    "    )\n",
    "\n",
    "    return response\n"
   ]
  },
  {
   "attachments": {},
   "cell_type": "markdown",
   "metadata": {},
   "source": [
    "## 创建索引"
   ]
  },
  {
   "cell_type": "code",
   "execution_count": null,
   "metadata": {},
   "outputs": [],
   "source": [
    "index_body = {\n",
    "      \"settings\": {\n",
    "        \"index\": {\n",
    "          \"knn\": True\n",
    "        }\n",
    "      },\n",
    "      \"mappings\": {\n",
    "        \"properties\": {\n",
    "          \"content_vec\": {\n",
    "            \"type\": \"knn_vector\",\n",
    "            \"index\": True, \n",
    "            \"dimension\": 768,\n",
    "            \"method\": {\n",
    "              \"name\": \"hnsw\",\n",
    "              \"space_type\": \"l2\",\n",
    "              \"engine\": \"nmslib\",\n",
    "              \"parameters\": {\n",
    "                \"ef_construction\": 128,\n",
    "                \"m\": 24\n",
    "              }\n",
    "            }\n",
    "          }\n",
    "        }\n",
    "      }\n",
    "    }\n",
    "client.indices.create(index_name, body=index_body)"
   ]
  },
  {
   "cell_type": "code",
   "execution_count": 6,
   "metadata": {},
   "outputs": [
    {
     "data": {
      "text/plain": [
       "{'acknowledged': True}"
      ]
     },
     "execution_count": 6,
     "metadata": {},
     "output_type": "execute_result"
    }
   ],
   "source": [
    "\n",
    "# client.indices.delete(index=index_name)"
   ]
  },
  {
   "attachments": {},
   "cell_type": "markdown",
   "metadata": {},
   "source": [
    "## 插入文档"
   ]
  },
  {
   "cell_type": "code",
   "execution_count": null,
   "metadata": {},
   "outputs": [],
   "source": [
    "\n",
    "sol_dir = './docs_ec/'\n",
    "\n",
    "file_list = os.listdir(sol_dir)\n",
    "for file_path in file_list:\n",
    "  file_name = sol_dir + file_path\n",
    "  sol_file = open(file_name, 'r')\n",
    "  line = sol_file.read()\n",
    "  line = line.strip()\n",
    "  if line:\n",
    "    print(\"Inserting: {}... {}\".format(line[:20], file_name))\n",
    "    update_data(None, {\n",
    "      \"text\": line,\n",
    "      \"origion\": file_name,\n",
    "      \"content_vec\": predictor_vector.predict({\"text\": line}),\n",
    "    })\n",
    "\n",
    "print(\"Done\")"
   ]
  }
 ],
 "metadata": {
  "kernelspec": {
   "display_name": "torch2",
   "language": "python",
   "name": "python3"
  },
  "language_info": {
   "codemirror_mode": {
    "name": "ipython",
    "version": 3
   },
   "file_extension": ".py",
   "mimetype": "text/x-python",
   "name": "python",
   "nbconvert_exporter": "python",
   "pygments_lexer": "ipython3",
   "version": "3.10.10"
  },
  "orig_nbformat": 4
 },
 "nbformat": 4,
 "nbformat_minor": 2
}
