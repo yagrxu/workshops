{
 "cells": [
  {
   "attachments": {},
   "cell_type": "markdown",
   "metadata": {},
   "source": [
    "# 使用 SageMaker Serverless 部署向量模型\n",
    "\n",
    "## 上传空自定义推理代码"
   ]
  },
  {
   "cell_type": "code",
   "execution_count": null,
   "metadata": {},
   "outputs": [],
   "source": [
    "\n",
    "!rm -f vector_model.tar.gz\n",
    "!tar zcvf vector_model.tar.gz -T /dev/null\n",
    "!aws s3 cp vector_model.tar.gz s3://cloudbeer-aigc-works/search_bot/vector_model.tar.gz"
   ]
  },
  {
   "attachments": {},
   "cell_type": "markdown",
   "metadata": {},
   "source": [
    "## 部署模型\n",
    "\n",
    "### 声明变量等\n",
    "\n",
    "下面的部署使用了 SageMaker Serverless 部署模型"
   ]
  },
  {
   "cell_type": "code",
   "execution_count": 3,
   "metadata": {},
   "outputs": [],
   "source": [
    "import boto3  \n",
    "from sagemaker.huggingface.model import HuggingFaceModel\n",
    "from sagemaker.serverless import ServerlessInferenceConfig\n",
    "\n",
    "s3_model = \"s3://cloudbeer-aigc-works/search_bot/vector_model.tar.gz\"\n",
    "\n",
    "iam_client = boto3.client('iam')\n",
    "role = iam_client.get_role(RoleName='HuggingfaceExecuteRole')['Role']['Arn']\n",
    "endpoint_name='text2vector'"
   ]
  },
  {
   "attachments": {},
   "cell_type": "markdown",
   "metadata": {},
   "source": [
    "### 部署"
   ]
  },
  {
   "cell_type": "code",
   "execution_count": 4,
   "metadata": {},
   "outputs": [
    {
     "name": "stdout",
     "output_type": "stream",
     "text": [
      "----!"
     ]
    }
   ],
   "source": [
    "huggingface_model = HuggingFaceModel(\n",
    "  model_data=s3_model,\n",
    "  role=role,\n",
    "\ttransformers_version='4.26',\n",
    "\tpytorch_version='1.13',\n",
    "\tpy_version='py39',\n",
    "  entry_point='inference.py',\n",
    "  source_dir='src/vector',\n",
    ")\n",
    "\n",
    "serverless_config = ServerlessInferenceConfig(\n",
    "    memory_size_in_mb=4096, max_concurrency=10,\n",
    ")\n",
    "\n",
    "predictor = huggingface_model.deploy(\n",
    "  serverless_inference_config=serverless_config,\n",
    "  endpoint_name=endpoint_name\n",
    ")"
   ]
  },
  {
   "attachments": {},
   "cell_type": "markdown",
   "metadata": {},
   "source": [
    "# 测试预测"
   ]
  },
  {
   "cell_type": "code",
   "execution_count": 5,
   "metadata": {},
   "outputs": [],
   "source": [
    "from sagemaker.huggingface.model import HuggingFacePredictor\n",
    "\n",
    "from numpy import dot\n",
    "from numpy.linalg import norm\n",
    "\n",
    "def numpy_sim(v1, v2):\n",
    "    return dot(v1, v2)/(norm(v1)*norm(v2))\n",
    "\n",
    "predictor = HuggingFacePredictor(\n",
    "  endpoint_name=endpoint_name\n",
    ")"
   ]
  },
  {
   "cell_type": "code",
   "execution_count": 6,
   "metadata": {},
   "outputs": [
    {
     "name": "stdout",
     "output_type": "stream",
     "text": [
      "768 [0.007056477479636669, 0.12021193653345108, -0.010267889127135277, 0.08088284730911255, 0.21164970099925995, 0.019357632845640182, -0.041434358805418015, 0.03360966965556145, 0.0508563332259655, 0.003544007195159793]\n"
     ]
    }
   ],
   "source": [
    "res = predictor.predict({\n",
    "    \"text\": \"Hello world.\"\n",
    "})\n",
    "\n",
    "print(len(res), res[:10])"
   ]
  },
  {
   "attachments": {},
   "cell_type": "markdown",
   "metadata": {},
   "source": [
    "相似性测试"
   ]
  },
  {
   "cell_type": "code",
   "execution_count": 8,
   "metadata": {},
   "outputs": [
    {
     "name": "stdout",
     "output_type": "stream",
     "text": [
      "对不起 与 抱歉 的相似度： 0.9974859157398233\n",
      "对不起 与 吃了吗 的相似度： 0.4769853065958965\n",
      "对不起 与 I'm sorry 的相似度： 0.9374510242687436\n",
      "对不起 与 the weather 的相似度： 0.18689081182255046\n",
      "对不起 与 ごめんなさい 的相似度： 0.996968684947639\n",
      "对不起 与 미안해 的相似度： 0.9881213472963395\n",
      "对不起 与 Désolé 的相似度： 0.9622101617182905\n"
     ]
    }
   ],
   "source": [
    "word = \"对不起\"\n",
    "compares = [\"抱歉\", \"吃了吗\", \"I'm sorry\", \"the weather\",  \"ごめんなさい\", \"미안해\", \"Désolé\"]\n",
    "\n",
    "wordvec = predictor.predict({\n",
    "    \"text\": word\n",
    "})\n",
    "\n",
    "\n",
    "for compare in compares:\n",
    "  print(f\"{word} 与 {compare} 的相似度：\",  numpy_sim(predictor.predict({\n",
    "      \"text\": compare\n",
    "  }), wordvec))"
   ]
  },
  {
   "attachments": {},
   "cell_type": "markdown",
   "metadata": {},
   "source": [
    "删除模型"
   ]
  },
  {
   "cell_type": "code",
   "execution_count": null,
   "metadata": {},
   "outputs": [],
   "source": [
    "\n",
    "from sagemaker import  Predictor\n",
    "predictor = Predictor(\n",
    "    endpoint_name=endpoint_name\n",
    ")\n",
    "\n",
    "predictor.delete_model()\n",
    "predictor.delete_endpoint()"
   ]
  }
 ],
 "metadata": {
  "kernelspec": {
   "display_name": "torch2",
   "language": "python",
   "name": "python3"
  },
  "language_info": {
   "codemirror_mode": {
    "name": "ipython",
    "version": 3
   },
   "file_extension": ".py",
   "mimetype": "text/x-python",
   "name": "python",
   "nbconvert_exporter": "python",
   "pygments_lexer": "ipython3",
   "version": "3.10.10"
  },
  "orig_nbformat": 4
 },
 "nbformat": 4,
 "nbformat_minor": 2
}
