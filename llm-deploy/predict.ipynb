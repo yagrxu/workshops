{
 "cells": [
  {
   "attachments": {},
   "cell_type": "markdown",
   "metadata": {},
   "source": [
    "# 模型测试\n",
    "\n",
    "\n",
    "SageMaker 目前部署：\n",
    "- THUDM/chatglm2-6b LLM 对话模型 "
   ]
  },
  {
   "cell_type": "code",
   "execution_count": 10,
   "metadata": {},
   "outputs": [],
   "source": [
    "from sagemaker.huggingface.model import HuggingFacePredictor\n",
    "\n",
    "predictor = HuggingFacePredictor(\n",
    "  endpoint_name='chatglm2'\n",
    ")\n"
   ]
  },
  {
   "attachments": {},
   "cell_type": "markdown",
   "metadata": {},
   "source": [
    "## LLM 对话模型"
   ]
  },
  {
   "cell_type": "code",
   "execution_count": 11,
   "metadata": {},
   "outputs": [
    {
     "name": "stdout",
     "output_type": "stream",
     "text": [
      "Thus, in the morning, the sun shines, and the fragrance of the incense sticks spreads throughout the air,\n",
      "\n",
      "As we gaze ahead at the cascading waterfall, hidden in the distance.\n"
     ]
    }
   ],
   "source": [
    "answer, history = predictor.predict({\n",
    "    \"text\": f\"\"\"\n",
    "    翻译下面的文档为莎士比亚风格的英文：\n",
    "\n",
    "    日照香炉生紫烟，遥望瀑布挂前川\n",
    "    \"\"\"\n",
    "})\n",
    "\n",
    "print(answer)"
   ]
  },
  {
   "cell_type": "code",
   "execution_count": 12,
   "metadata": {},
   "outputs": [
    {
     "name": "stdout",
     "output_type": "stream",
     "text": [
      "落日落在山脉上，黄河流入大海。\n"
     ]
    }
   ],
   "source": [
    "answer, history = predictor.predict({\n",
    "    \"text\": f\"\"\"\n",
    "    Translate the following text into Chinese:\n",
    "\n",
    "    The sun sets over the mountains, and the Yellow River flows into the sea.\n",
    "      \"\"\"\n",
    "})\n",
    "\n",
    "print(answer)"
   ]
  }
 ],
 "metadata": {
  "kernelspec": {
   "display_name": "llm",
   "language": "python",
   "name": "python3"
  },
  "language_info": {
   "codemirror_mode": {
    "name": "ipython",
    "version": 3
   },
   "file_extension": ".py",
   "mimetype": "text/x-python",
   "name": "python",
   "nbconvert_exporter": "python",
   "pygments_lexer": "ipython3",
   "version": "3.10.10"
  },
  "orig_nbformat": 4
 },
 "nbformat": 4,
 "nbformat_minor": 2
}
