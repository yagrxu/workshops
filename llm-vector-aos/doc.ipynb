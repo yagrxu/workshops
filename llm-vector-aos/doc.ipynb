{
 "cells": [
  {
   "attachments": {},
   "cell_type": "markdown",
   "metadata": {},
   "source": [
    "# 数据入库"
   ]
  },
  {
   "attachments": {},
   "cell_type": "markdown",
   "metadata": {},
   "source": [
    "## 连接 OpenSearch 并加载 LLM 模型"
   ]
  },
  {
   "cell_type": "code",
   "execution_count": 15,
   "metadata": {},
   "outputs": [],
   "source": [
    "from opensearchpy import OpenSearch, RequestsHttpConnection, AWSV4SignerAuth\n",
    "from sagemaker.huggingface.model import HuggingFacePredictor\n",
    "# import boto3\n",
    "import os\n",
    "from dotenv import load_dotenv\n",
    "\n",
    "load_dotenv()\n",
    "\n",
    "host = 'search-aiml-bot-rzeucj66zz7ortkojghfgzh2c4.us-east-1.es.amazonaws.com' \n",
    "port = 443\n",
    "region = 'us-east-1' # e.g. us-west-1\n",
    "\n",
    "# credentials = boto3.Session().get_credentials()\n",
    "# auth = AWSV4SignerAuth(credentials, region)\n",
    "auth = (os.environ.get(\"AOS_USER\"), os.environ.get(\"AOS_PWD\")) \n",
    "\n",
    "client = OpenSearch(\n",
    "    hosts = [f'{host}:{port}'],\n",
    "    http_auth = auth,\n",
    "    use_ssl = True,\n",
    "    verify_certs = True,\n",
    "    connection_class = RequestsHttpConnection\n",
    ")\n",
    "\n",
    "\n",
    "predictor = HuggingFacePredictor(\n",
    "  endpoint_name='llm-models'\n",
    ")\n",
    "\n",
    "# 插入数据\n",
    "def update_data(id, data):\n",
    "    response = client.index(\n",
    "        index=index_name,\n",
    "        body=data, \n",
    "        id=id\n",
    "    )\n",
    "\n",
    "    return response\n",
    "\n",
    "\n",
    "index_name = 'doc_embeddings'"
   ]
  },
  {
   "attachments": {},
   "cell_type": "markdown",
   "metadata": {},
   "source": [
    "## 创建索引\n",
    "\n",
    "目前向量模型转化的 vector 的数组长度为 768，所以向量的维度为 `\"dimension\": 768`"
   ]
  },
  {
   "cell_type": "code",
   "execution_count": null,
   "metadata": {},
   "outputs": [],
   "source": [
    "index_body = {\n",
    "      \"settings\": {\n",
    "        \"index\": {\n",
    "          \"knn\": True\n",
    "        }\n",
    "      },\n",
    "      \"mappings\": {\n",
    "        \"properties\": {\n",
    "          \"content_vec\": {\n",
    "            \"type\": \"knn_vector\",\n",
    "            \"index\": True, \n",
    "            \"dimension\": 768,\n",
    "            \"method\": {\n",
    "              \"name\": \"hnsw\",\n",
    "              \"space_type\": \"l2\",\n",
    "              \"engine\": \"nmslib\",\n",
    "              \"parameters\": {\n",
    "                \"ef_construction\": 128,\n",
    "                \"m\": 24\n",
    "              }\n",
    "            }\n",
    "          }\n",
    "        }\n",
    "      }\n",
    "    }\n",
    "client.indices.create(index_name, body=index_body)"
   ]
  },
  {
   "cell_type": "code",
   "execution_count": null,
   "metadata": {},
   "outputs": [],
   "source": [
    "# 删除索引\n",
    "client.indices.delete(index=index_name)"
   ]
  },
  {
   "attachments": {},
   "cell_type": "markdown",
   "metadata": {},
   "source": [
    "## 分拆文档并插入 AOS"
   ]
  },
  {
   "attachments": {},
   "cell_type": "markdown",
   "metadata": {},
   "source": [
    "### 数据插入 - 大学\n",
    "\n",
    "读取文本文件，并按照行进行分片，然后向量化，并插入 AOS"
   ]
  },
  {
   "cell_type": "code",
   "execution_count": null,
   "metadata": {},
   "outputs": [],
   "source": [
    "\n",
    "file_name = './docs/985-uni.txt'\n",
    "university_file = open(file_name, 'r')\n",
    "\n",
    "lines = university_file.readlines()\n",
    "\n",
    "for line in lines:\n",
    "  line = line.strip()\n",
    "  if line:\n",
    "    print(\"Inserting: {}...\".format(line[:20]))\n",
    "    update_data(None, {\n",
    "      \"text\": line,\n",
    "      \"origion\": file_name,\n",
    "      \"content_vec\": predictor.predict({\"text\": line,\"type\": 2}),\n",
    "    })\n",
    "\n",
    "print(\"Done\")"
   ]
  },
  {
   "attachments": {},
   "cell_type": "markdown",
   "metadata": {},
   "source": [
    "### 数据插入：解决方案"
   ]
  },
  {
   "cell_type": "code",
   "execution_count": null,
   "metadata": {},
   "outputs": [],
   "source": [
    "import os\n",
    "\n",
    "sol_dir = './docs_solutions/'\n",
    "\n",
    "file_list = os.listdir(sol_dir)\n",
    "for file_path in file_list:\n",
    "  file_name = sol_dir + file_path\n",
    "  sol_file = open(file_name, 'r')\n",
    "  lines = sol_file.readlines()\n",
    "  for line in lines:\n",
    "    line = line.strip()\n",
    "    if line:\n",
    "      print(\"Inserting: {}... {}\".format(line[:20], file_name))\n",
    "      update_data(None, {\n",
    "        \"text\": line,\n",
    "        \"origion\": file_name,\n",
    "        \"content_vec\": predictor.predict({\"text\": line,\"type\": 2}),\n",
    "      })\n",
    "\n",
    "print(\"Done\")"
   ]
  },
  {
   "attachments": {},
   "cell_type": "markdown",
   "metadata": {},
   "source": [
    "### 数据插入：商品"
   ]
  },
  {
   "cell_type": "code",
   "execution_count": null,
   "metadata": {},
   "outputs": [],
   "source": [
    "import os\n",
    "\n",
    "sol_dir = './docs_ec/'\n",
    "\n",
    "file_list = os.listdir(sol_dir)\n",
    "for file_path in file_list:\n",
    "  file_name = sol_dir + file_path\n",
    "  sol_file = open(file_name, 'r')\n",
    "  line = sol_file.read()\n",
    "  line = line.strip()\n",
    "  if line:\n",
    "    print(\"Inserting: {}... {}\".format(line[:20], file_name))\n",
    "    update_data(None, {\n",
    "      \"text\": line,\n",
    "      \"origion\": file_name,\n",
    "      \"content_vec\": predictor.predict({\"text\": line,\"type\": 2}),\n",
    "    })\n",
    "\n",
    "print(\"Done\")"
   ]
  },
  {
   "cell_type": "markdown",
   "metadata": {},
   "source": []
  },
  {
   "attachments": {},
   "cell_type": "markdown",
   "metadata": {},
   "source": [
    "## 查询"
   ]
  },
  {
   "cell_type": "code",
   "execution_count": 16,
   "metadata": {},
   "outputs": [],
   "source": [
    "def search(sentense):\n",
    "    sentence_vec = predictor.predict({\"text\": sentense, \"type\": 2})\n",
    "    query_body = {\n",
    "        \"size\": 3,\n",
    "        \"query\": {\n",
    "            \"knn\": {\n",
    "                \"content_vec\": {\n",
    "                    \"vector\": sentence_vec,\n",
    "                    \"k\": 1\n",
    "                }\n",
    "            }\n",
    "        }\n",
    "    }\n",
    "\n",
    "    response = client.search(index=index_name, body=query_body)\n",
    "    result =  map(map_res, response[\"hits\"][\"hits\"])\n",
    "    return list(result)\n",
    "\n",
    "def map_res(obj):\n",
    "    return {\n",
    "        \"id\": obj[\"_id\"],\n",
    "        \"score\": obj[\"_score\"],\n",
    "        \"text\": obj[\"_source\"][\"text\"],\n",
    "        \"origion\": obj[\"_source\"][\"origion\"],\n",
    "\n",
    "    }\n",
    "\n",
    "# search(\"What are the universities of foreign languages\")\n",
    "# search(\"国防科技大学的王牌专业是哪个？\")\n"
   ]
  },
  {
   "cell_type": "code",
   "execution_count": 18,
   "metadata": {},
   "outputs": [
    {
     "data": {
      "text/plain": [
       "[{'id': '1dW0KokBRau1ZRpy6sXT',\n",
       "  'score': 0.21213564,\n",
       "  'text': 'GE 6-Outlet Surge Protector, 15 Ft Extension Cord, Power Strip, 800 Joules, Flat Plug, Twist-to-Close Safety Covers, Protected Indicator Light, UL Listed, Black, 50767\\nAbout this item\\nExpand Your Power – 6 grounded and protected 3-prong outlets provide power from a distance — perfect for creating a centralized hub for your electronics at your home, office, workshop or garage.\\nVersatile Cord – Extra-long 15ft. power cord comprised of 14-gauge SJT cable housed in a durable PVC insulation and jacket with a space-saving flat plug to allow unit to fit closely to the wall. This heavy-duty cord is strong enough to last a lifetime and pliable enough to easily fully extend.\\nProtection – 800 Joules protection rating safeguards your electronics from harmful voltage spikes. Integrated circuit breaker and automatic shutdown technology cut power to your surge protector should it experience overvoltage or overheating.\\nFunctionality – Twist-to-close safety outlets ensure that dust and foreign objects are kept out of unused outlets. Integrated keyhole slots make this unit easy to mount to a desk, table or counter.\\nTrusted Brand – GE is the #1 brand in surge protection and extension cords.\\nPrice: $20.97',\n",
       "  'origion': './docs_ec/g2.txt'},\n",
       " {'id': '1tW0KokBRau1ZRpy8sWu',\n",
       "  'score': 0.17058533,\n",
       "  'text': '雅迪新国标电动车座套防雨防晒新款皮革爱玛电车坐垫套防水通用型 【四面弹皮革】圆头 单个前座套\\n商品名称：雅迪新国标电动车座套防雨防晒新款皮革爱玛电车坐垫套防水通用型 【四面弹皮革】圆头 类别：平面款表层主材质：皮功能：加热下单需绑定车型：需绑定车型适用季节：四季通用适用场景：商务接待套件类别：前排单座\\n价格 ￥11.72',\n",
       "  'origion': './docs_ec/g4.txt'},\n",
       " {'id': 'sKe0KokBDTiYVUcx-Igl',\n",
       "  'score': 0.16969787,\n",
       "  'text': '电动车防雨罩防晒罩雨棚蓬摩托车电瓶车防水遮雨车衣车罩四季通用 加厚铝膜【蓝色】 S无耳加厚【适用1.6米内】\\n商品毛重：1.0kg 货号：11-4-0.4-BDZ-2类型：半罩材质：其他适用车型：车型通用\\n价格 ￥43.6',\n",
       "  'origion': './docs_ec/g5.txt'}]"
      ]
     },
     "execution_count": 18,
     "metadata": {},
     "output_type": "execute_result"
    }
   ],
   "source": [
    "# search(\"折叠电动自行车\")\n",
    "search(\"插座电涌保护器\")\n",
    "# search(\"carbon pen box\")\n",
    "# search(\"Coussin d’assise étanche\") # 防水坐垫\n",
    "# search(\"จักรยานพับไฟฟ้า\") # 折叠电动自行车"
   ]
  },
  {
   "attachments": {},
   "cell_type": "markdown",
   "metadata": {},
   "source": [
    "## 对话化"
   ]
  },
  {
   "cell_type": "code",
   "execution_count": 19,
   "metadata": {},
   "outputs": [],
   "source": [
    "def ask(q):\n",
    "  answers = search(q)\n",
    "  strAnswers = \"\"\n",
    "  references = {}\n",
    "  for an in answers:\n",
    "      strAnswers += an['text'] + \"\\n\\n\"\n",
    "      origion = an['origion']\n",
    "      if origion in references :\n",
    "        references[origion] += 1\n",
    "      else:\n",
    "         references[origion] = 1\n",
    "  ori_prompt = f\"\"\"\n",
    "Use the following pieces of context to answer the question at the end. If you don't know the answer, just say that you don't know, don't try to make up an answer.\n",
    "\n",
    "{strAnswers}\n",
    "\n",
    "Question: {q}\n",
    "            \n",
    "Helpful Answer:\n",
    "\n",
    "  \"\"\"\n",
    "  # print(\"Prompt: \")\n",
    "  # print(ori_prompt)\n",
    "\n",
    "  print(\"问题: \", q)\n",
    "  a = predictor.predict({\"text\": ori_prompt,\"type\": 8})\n",
    "\n",
    "  return a, references"
   ]
  },
  {
   "cell_type": "code",
   "execution_count": 20,
   "metadata": {},
   "outputs": [
    {
     "name": "stdout",
     "output_type": "stream",
     "text": [
      "问题:  G-force德国新国标折叠电动自行车的特性,价格\n",
      "回答： G-force德国新国标折叠电动自行车的特性包括：可折叠、轮圈尺寸为14英寸、电压为48V、电池容量为10AH及以下、可拆卸电池、额定功率为251-400W、净重为21-30kg、理论时速为25km/h、车架材质为高碳钢、制动方式为前后碟刹、标准认证为CCC认证、变速档位为3速、理论续航为26-40km。该车的价格为人民币999元。\n",
      "引用： {'./docs_ec/g6.txt': 1, './docs_ec/g5.txt': 1, './docs_ec/g4.txt': 1}\n"
     ]
    }
   ],
   "source": [
    "answer01 = ask(\"G-force德国新国标折叠电动自行车的特性,价格\")\n",
    "\n",
    "print(\"回答：\", answer01[0])\n",
    "print(\"引用：\", answer01[1])"
   ]
  },
  {
   "cell_type": "code",
   "execution_count": 21,
   "metadata": {},
   "outputs": [
    {
     "name": "stdout",
     "output_type": "stream",
     "text": [
      "问题:  Features and price of carbon fiber pen holder\n",
      "回答： The carbon fiber pen holder is made of hand-crafted linear carbon fiber and non-铅 yellow copper. It has a length of 180mm, an outer diameter of 16mm, and an inner diameter of 13mm. The pen holder weighs 30g and is produced in Italy. It comes with the original factory packaging, a manual, and the pen筒。\n",
      "\n",
      "价格：￥728\n",
      "引用： {'./docs_ec/g1.txt': 1, './docs_ec/g5.txt': 1, './docs_ec/g6.txt': 1}\n"
     ]
    }
   ],
   "source": [
    "answer01 = ask(\"Features and price of carbon fiber pen holder\")  # 碳纤维笔筒\n",
    "\n",
    "print(\"回答：\", answer01[0])\n",
    "print(\"引用：\", answer01[1])"
   ]
  },
  {
   "cell_type": "code",
   "execution_count": null,
   "metadata": {},
   "outputs": [],
   "source": [
    "answer01 = ask(\"基本农田保护方案是什么？\")\n",
    "\n",
    "print(\"回答：\", answer01[0])\n",
    "print(\"引用：\", answer01[1])\n"
   ]
  },
  {
   "cell_type": "code",
   "execution_count": null,
   "metadata": {},
   "outputs": [],
   "source": [
    "answer01 = ask(\"你有城市停车运营解决方案吗，具体是怎么运作的？\")\n",
    "\n",
    "print(\"回答：\", answer01[0])\n",
    "print(\"引用：\", answer01[1])"
   ]
  },
  {
   "cell_type": "code",
   "execution_count": null,
   "metadata": {},
   "outputs": [],
   "source": [
    "answer01 = ask(\"How to manage the hospital, do you have a specific plan?\")\n",
    "\n",
    "print(\"回答：\", answer01[0])\n",
    "print(\"引用：\", answer01[1])\n",
    "\n",
    "\n"
   ]
  }
 ],
 "metadata": {
  "kernelspec": {
   "display_name": "torch2",
   "language": "python",
   "name": "python3"
  },
  "language_info": {
   "codemirror_mode": {
    "name": "ipython",
    "version": 3
   },
   "file_extension": ".py",
   "mimetype": "text/x-python",
   "name": "python",
   "nbconvert_exporter": "python",
   "pygments_lexer": "ipython3",
   "version": "3.10.10"
  },
  "orig_nbformat": 4
 },
 "nbformat": 4,
 "nbformat_minor": 2
}
