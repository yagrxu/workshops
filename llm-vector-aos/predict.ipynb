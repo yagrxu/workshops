{
 "cells": [
  {
   "attachments": {},
   "cell_type": "markdown",
   "metadata": {},
   "source": [
    "# 模型测试\n",
    "\n",
    "\n",
    "SageMaker 目前部署了 4 个模型：\n",
    "\n",
    "\n",
    "- THUDM/chatglm2-6b LLM 对话模型 （对应 type>3 or type<0）\n",
    "- shibing624/text2vec-base-chinese 向量转化模型（对应 type=0）\n",
    "- shibing624/text2vec-base-chinese-sentence 向量转化模型（对应 type=1）\n",
    "- sentence-transformers/paraphrase-multilingual-mpnet-base-v2 向量转化模型（对应 type=2）"
   ]
  },
  {
   "cell_type": "code",
   "execution_count": 7,
   "metadata": {},
   "outputs": [],
   "source": [
    "from sagemaker.huggingface.model import HuggingFacePredictor\n",
    "\n",
    "from numpy import dot\n",
    "from numpy.linalg import norm\n",
    "\n",
    "def numpy_sim(v1, v2):\n",
    "    return dot(v1, v2)/(norm(v1)*norm(v2))\n",
    "\n",
    "predictor = HuggingFacePredictor(\n",
    "  endpoint_name='llm-models'\n",
    ")\n"
   ]
  },
  {
   "attachments": {},
   "cell_type": "markdown",
   "metadata": {},
   "source": [
    "## LLM 对话模型"
   ]
  },
  {
   "cell_type": "code",
   "execution_count": 10,
   "metadata": {},
   "outputs": [
    {
     "name": "stdout",
     "output_type": "stream",
     "text": [
      "The sun rises, fragrant smoke ascending\n",
      "\n",
      "As I gaze at the falls, far ahead\n",
      "\n",
      "In the distance, a waterfall cascades\n",
      "\n",
      "And the air is filled with the sweet aroma\n"
     ]
    }
   ],
   "source": [
    "answer = predictor.predict({\n",
    "    \"text\": f\"\"\"\n",
    "    翻译下面的文档为莎士比亚风格的英文：\n",
    "\n",
    "    日照香炉生紫烟，遥望瀑布挂前川\n",
    "    \"\"\",\n",
    "    \"type\": 8\n",
    "})\n",
    "\n",
    "print(answer)"
   ]
  },
  {
   "cell_type": "code",
   "execution_count": 12,
   "metadata": {},
   "outputs": [
    {
     "name": "stdout",
     "output_type": "stream",
     "text": [
      "落日落在山脉上，黄河流入大海。\n"
     ]
    }
   ],
   "source": [
    "answer = predictor.predict({\n",
    "    \"text\": f\"\"\"\n",
    "    Translate the following text into Chinese:\n",
    "\n",
    "    The sun sets over the mountains, and the Yellow River flows into the sea.\n",
    "      \"\"\",\n",
    "    \"type\": 8\n",
    "})\n",
    "\n",
    "print(answer)"
   ]
  },
  {
   "attachments": {},
   "cell_type": "markdown",
   "metadata": {},
   "source": [
    "## 向量提取"
   ]
  },
  {
   "cell_type": "code",
   "execution_count": 13,
   "metadata": {},
   "outputs": [
    {
     "name": "stdout",
     "output_type": "stream",
     "text": [
      "768 [0.03347698226571083, 0.1332712173461914, -0.013817096129059792, 0.06620144098997116, 0.1956453025341034, 0.006277161650359631, -0.011438372544944286, 0.022746816277503967, 0.06149399280548096, 0.026750221848487854]\n"
     ]
    }
   ],
   "source": [
    "res = predictor.predict({\n",
    "    \"text\": \"你好世界\",\n",
    "    \"type\": 2\n",
    "})\n",
    "\n",
    "print(len(res), res[:10])"
   ]
  },
  {
   "attachments": {},
   "cell_type": "markdown",
   "metadata": {},
   "source": [
    "## 向量相似性测试"
   ]
  },
  {
   "attachments": {},
   "cell_type": "markdown",
   "metadata": {},
   "source": [
    "### 数据准备"
   ]
  },
  {
   "cell_type": "code",
   "execution_count": null,
   "metadata": {},
   "outputs": [],
   "source": [
    "word = \"对不起\"\n",
    "compares = [\"抱歉\", \"對不起\", \"對唔住\",\"真遗憾\", \"吃了吗\", \"I'm sorry\", \"I apologize\", \"the weather\",  \"ごめんなさい\", \"미안해\", \"Désolé\"]\n"
   ]
  },
  {
   "attachments": {},
   "cell_type": "markdown",
   "metadata": {},
   "source": [
    "### 语义相似性 shibing624/text2vec-base-chinese "
   ]
  },
  {
   "cell_type": "code",
   "execution_count": null,
   "metadata": {},
   "outputs": [],
   "source": [
    "\n",
    "wordvec = predictor.predict({\n",
    "    \"text\": word,\n",
    "    \"type\": 0\n",
    "})\n",
    "\n",
    "\n",
    "for compare in compares:\n",
    "  print(f\"{word} 与 {compare} 的相似度：\",  numpy_sim(predictor.predict({\n",
    "      \"text\": compare,\n",
    "      \"type\": 0\n",
    "  }), wordvec))"
   ]
  },
  {
   "attachments": {},
   "cell_type": "markdown",
   "metadata": {},
   "source": [
    "### 语义相似性 shibing624/text2vec-base-chinese-sentence"
   ]
  },
  {
   "cell_type": "code",
   "execution_count": null,
   "metadata": {},
   "outputs": [],
   "source": [
    "\n",
    "wordvec = predictor.predict({\n",
    "    \"text\": word,\n",
    "    \"type\": 1\n",
    "})\n",
    "\n",
    "\n",
    "for compare in compares:\n",
    "  print(f\"{word} 与 {compare} 的相似度：\",  numpy_sim(predictor.predict({\n",
    "      \"text\": compare,\n",
    "      \"type\": 1\n",
    "  }), wordvec))"
   ]
  },
  {
   "attachments": {},
   "cell_type": "markdown",
   "metadata": {},
   "source": [
    "### 语义相似性 sentence-transformers/paraphrase-multilingual-mpnet-base-v2"
   ]
  },
  {
   "cell_type": "code",
   "execution_count": null,
   "metadata": {},
   "outputs": [],
   "source": [
    "\n",
    "wordvec = predictor.predict({\n",
    "    \"text\": word,\n",
    "    \"type\": 2\n",
    "})\n",
    "\n",
    "\n",
    "for compare in compares:\n",
    "  print(f\"{word} 与 {compare} 的相似度：\",  numpy_sim(predictor.predict({\n",
    "      \"text\": compare,\n",
    "      \"type\": 2\n",
    "  }), wordvec))"
   ]
  },
  {
   "attachments": {},
   "cell_type": "markdown",
   "metadata": {},
   "source": [
    "### 语义相似性 ChatGLM2 embeddings"
   ]
  },
  {
   "cell_type": "code",
   "execution_count": null,
   "metadata": {},
   "outputs": [],
   "source": [
    "\n",
    "wordvec = predictor.predict({\n",
    "    \"text\": word,\n",
    "    \"type\": 3\n",
    "})\n",
    "\n",
    "\n",
    "for compare in compares:\n",
    "  print(f\"{word} 与 {compare} 的相似度：\",  numpy_sim(predictor.predict({\n",
    "      \"text\": compare,\n",
    "      \"type\": 3\n",
    "  }), wordvec))"
   ]
  },
  {
   "cell_type": "code",
   "execution_count": null,
   "metadata": {},
   "outputs": [],
   "source": [
    "vec1 =  predictor.predict({\n",
    "    \"text\": \"在校生人数排在全国第三位的\",\n",
    "    \"type\": 2\n",
    "})\n",
    "\n",
    "vec2 = predictor.predict({\n",
    "    \"text\": \"山东大学，在校生人数排在全国第三位的，无明显特色，靠庞大的“综合性”支撑门面招牌。 理科最好的专业：数学、材料工程、物理、机械制造、控制工程、医学等 文科最好的专业：经济学、文学、历史学等\",\n",
    "    \"type\": 2\n",
    "})\n",
    "vec3 = predictor.predict({\n",
    "    \"text\": \"1、华东师范大学，如果说北京师大是中国师范第一名，那么第二名非华东师范大学莫属。 自然就形成了南北鼎立的状态，北师大统一北方，华东师大则领衔南方。 理科最好的专业：地理学、数学、光学、生命科学 文科最好的专业：教育学、文学、心理学\",\n",
    "    \"type\": 2\n",
    "})\n",
    "print(numpy_sim(vec1, vec2))\n",
    "print(numpy_sim(vec1, vec3))"
   ]
  },
  {
   "cell_type": "code",
   "execution_count": null,
   "metadata": {},
   "outputs": [],
   "source": [
    "vec1 =  predictor.predict({\n",
    "    \"text\": \"华东师范大学\",\n",
    "    \"type\": 1\n",
    "})\n",
    "\n",
    "vec2 = predictor.predict({\n",
    "    \"text\": \"山东大学，在校生人数排在全国第三位的，无明显特色，靠庞大的“综合性”支撑门面招牌。 理科最好的专业：数学、材料工程、物理、机械制造、控制工程、医学等 文科最好的专业：经济学、文学、历史学等\",\n",
    "    \"type\": 1\n",
    "})\n",
    "vec3 = predictor.predict({\n",
    "    \"text\": \"1、华东师范大学，如果说北京师大是中国师范第一名，那么第二名非华东师范大学莫属。 自然就形成了南北鼎立的状态，北师大统一北方，华东师大则领衔南方。 理科最好的专业：地理学、数学、光学、生命科学 文科最好的专业：教育学、文学、心理学\",\n",
    "    \"type\": 1\n",
    "})\n",
    "print(numpy_sim(vec1, vec2))\n",
    "print(numpy_sim(vec1, vec3))"
   ]
  },
  {
   "cell_type": "code",
   "execution_count": null,
   "metadata": {},
   "outputs": [],
   "source": [
    "vec1 =  predictor.predict({\n",
    "    \"text\": \"华东师范大学\",\n",
    "    \"type\": 0\n",
    "})\n",
    "\n",
    "vec2 = predictor.predict({\n",
    "    \"text\": \"山东大学，在校生人数排在全国第三位的，无明显特色，靠庞大的“综合性”支撑门面招牌。 理科最好的专业：数学、材料工程、物理、机械制造、控制工程、医学等 文科最好的专业：经济学、文学、历史学等\",\n",
    "    \"type\": 0\n",
    "})\n",
    "vec3 = predictor.predict({\n",
    "    \"text\": \"1、华东师范大学，如果说北京师大是中国师范第一名，那么第二名非华东师范大学莫属。 自然就形成了南北鼎立的状态，北师大统一北方，华东师大则领衔南方。 理科最好的专业：地理学、数学、光学、生命科学 文科最好的专业：教育学、文学、心理学\",\n",
    "    \"type\": 0\n",
    "})\n",
    "print(numpy_sim(vec1, vec2))\n",
    "print(numpy_sim(vec1, vec3))"
   ]
  },
  {
   "cell_type": "code",
   "execution_count": null,
   "metadata": {},
   "outputs": [],
   "source": [
    "vec1 =  predictor.predict({\n",
    "    \"text\": \"university in south\",\n",
    "    \"type\": 2\n",
    "})\n",
    "\n",
    "vec2 = predictor.predict({\n",
    "    \"text\": \"山东大学，在校生人数排在全国第三位的，无明显特色，靠庞大的“综合性”支撑门面招牌。 理科最好的专业：数学、材料工程、物理、机械制造、控制工程、医学等 文科最好的专业：经济学、文学、历史学等\",\n",
    "    \"type\": 2\n",
    "})\n",
    "vec3 = predictor.predict({\n",
    "    \"text\": \"1、华东师范大学，如果说北京师大是中国师范第一名，那么第二名非华东师范大学莫属。 自然就形成了南北鼎立的状态，北师大统一北方，华东师大则领衔南方。 理科最好的专业：地理学、数学、光学、生命科学 文科最好的专业：教育学、文学、心理学\",\n",
    "    \"type\": 2\n",
    "})\n",
    "print(numpy_sim(vec1, vec2))\n",
    "print(numpy_sim(vec1, vec3))"
   ]
  }
 ],
 "metadata": {
  "kernelspec": {
   "display_name": "llm",
   "language": "python",
   "name": "python3"
  },
  "language_info": {
   "codemirror_mode": {
    "name": "ipython",
    "version": 3
   },
   "file_extension": ".py",
   "mimetype": "text/x-python",
   "name": "python",
   "nbconvert_exporter": "python",
   "pygments_lexer": "ipython3",
   "version": "3.10.10"
  },
  "orig_nbformat": 4
 },
 "nbformat": 4,
 "nbformat_minor": 2
}
